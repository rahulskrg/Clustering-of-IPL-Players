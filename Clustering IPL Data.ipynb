{
 "cells": [
  {
   "cell_type": "code",
   "execution_count": 1,
   "metadata": {},
   "outputs": [],
   "source": [
    "import os\n",
    "import pandas as pd"
   ]
  },
  {
   "cell_type": "code",
   "execution_count": 4,
   "metadata": {},
   "outputs": [
    {
     "data": {
      "text/plain": [
       "'D:\\\\Machine learning\\\\Unsupervised learning\\\\Assignment'"
      ]
     },
     "execution_count": 4,
     "metadata": {},
     "output_type": "execute_result"
    }
   ],
   "source": [
    "os.chdir(\"D:/Machine learning/Unsupervised learning/Assignment\")\n",
    "os.getcwd()"
   ]
  },
  {
   "cell_type": "code",
   "execution_count": 7,
   "metadata": {
    "scrolled": true
   },
   "outputs": [
    {
     "data": {
      "text/html": [
       "<div>\n",
       "<style scoped>\n",
       "    .dataframe tbody tr th:only-of-type {\n",
       "        vertical-align: middle;\n",
       "    }\n",
       "\n",
       "    .dataframe tbody tr th {\n",
       "        vertical-align: top;\n",
       "    }\n",
       "\n",
       "    .dataframe thead th {\n",
       "        text-align: right;\n",
       "    }\n",
       "</style>\n",
       "<table border=\"1\" class=\"dataframe\">\n",
       "  <thead>\n",
       "    <tr style=\"text-align: right;\">\n",
       "      <th></th>\n",
       "      <th>Unnamed: 0</th>\n",
       "      <th>PLAYER</th>\n",
       "      <th>Mat.x</th>\n",
       "      <th>Inns.x</th>\n",
       "      <th>NO</th>\n",
       "      <th>Runs.x</th>\n",
       "      <th>HS</th>\n",
       "      <th>Avg.x</th>\n",
       "      <th>BF</th>\n",
       "      <th>SR.x</th>\n",
       "      <th>...</th>\n",
       "      <th>Inns.y</th>\n",
       "      <th>Ov</th>\n",
       "      <th>Runs.y</th>\n",
       "      <th>Wkts</th>\n",
       "      <th>BBI</th>\n",
       "      <th>Avg.y</th>\n",
       "      <th>Econ</th>\n",
       "      <th>SR.y</th>\n",
       "      <th>X4w</th>\n",
       "      <th>X5w</th>\n",
       "    </tr>\n",
       "  </thead>\n",
       "  <tbody>\n",
       "    <tr>\n",
       "      <th>0</th>\n",
       "      <td>1</td>\n",
       "      <td>Aaron Finch</td>\n",
       "      <td>10</td>\n",
       "      <td>9</td>\n",
       "      <td>1</td>\n",
       "      <td>134</td>\n",
       "      <td>46</td>\n",
       "      <td>16.75</td>\n",
       "      <td>100</td>\n",
       "      <td>134.00</td>\n",
       "      <td>...</td>\n",
       "      <td>0</td>\n",
       "      <td>0.0</td>\n",
       "      <td>0</td>\n",
       "      <td>0</td>\n",
       "      <td>0</td>\n",
       "      <td>0.0</td>\n",
       "      <td>0.0</td>\n",
       "      <td>0.0</td>\n",
       "      <td>0</td>\n",
       "      <td>0</td>\n",
       "    </tr>\n",
       "    <tr>\n",
       "      <th>1</th>\n",
       "      <td>2</td>\n",
       "      <td>AB de Villiers</td>\n",
       "      <td>12</td>\n",
       "      <td>11</td>\n",
       "      <td>2</td>\n",
       "      <td>480</td>\n",
       "      <td>90</td>\n",
       "      <td>53.33</td>\n",
       "      <td>275</td>\n",
       "      <td>174.54</td>\n",
       "      <td>...</td>\n",
       "      <td>0</td>\n",
       "      <td>0.0</td>\n",
       "      <td>0</td>\n",
       "      <td>0</td>\n",
       "      <td>0</td>\n",
       "      <td>0.0</td>\n",
       "      <td>0.0</td>\n",
       "      <td>0.0</td>\n",
       "      <td>0</td>\n",
       "      <td>0</td>\n",
       "    </tr>\n",
       "    <tr>\n",
       "      <th>2</th>\n",
       "      <td>3</td>\n",
       "      <td>Abhishek Sharma</td>\n",
       "      <td>3</td>\n",
       "      <td>3</td>\n",
       "      <td>2</td>\n",
       "      <td>63</td>\n",
       "      <td>46</td>\n",
       "      <td>63.00</td>\n",
       "      <td>33</td>\n",
       "      <td>190.90</td>\n",
       "      <td>...</td>\n",
       "      <td>0</td>\n",
       "      <td>0.0</td>\n",
       "      <td>0</td>\n",
       "      <td>0</td>\n",
       "      <td>0</td>\n",
       "      <td>0.0</td>\n",
       "      <td>0.0</td>\n",
       "      <td>0.0</td>\n",
       "      <td>0</td>\n",
       "      <td>0</td>\n",
       "    </tr>\n",
       "    <tr>\n",
       "      <th>3</th>\n",
       "      <td>4</td>\n",
       "      <td>Ajinkya Rahane</td>\n",
       "      <td>15</td>\n",
       "      <td>14</td>\n",
       "      <td>1</td>\n",
       "      <td>370</td>\n",
       "      <td>65</td>\n",
       "      <td>28.46</td>\n",
       "      <td>313</td>\n",
       "      <td>118.21</td>\n",
       "      <td>...</td>\n",
       "      <td>0</td>\n",
       "      <td>0.0</td>\n",
       "      <td>0</td>\n",
       "      <td>0</td>\n",
       "      <td>0</td>\n",
       "      <td>0.0</td>\n",
       "      <td>0.0</td>\n",
       "      <td>0.0</td>\n",
       "      <td>0</td>\n",
       "      <td>0</td>\n",
       "    </tr>\n",
       "    <tr>\n",
       "      <th>4</th>\n",
       "      <td>5</td>\n",
       "      <td>Alex Hales</td>\n",
       "      <td>6</td>\n",
       "      <td>6</td>\n",
       "      <td>0</td>\n",
       "      <td>148</td>\n",
       "      <td>45</td>\n",
       "      <td>24.66</td>\n",
       "      <td>118</td>\n",
       "      <td>125.42</td>\n",
       "      <td>...</td>\n",
       "      <td>0</td>\n",
       "      <td>0.0</td>\n",
       "      <td>0</td>\n",
       "      <td>0</td>\n",
       "      <td>0</td>\n",
       "      <td>0.0</td>\n",
       "      <td>0.0</td>\n",
       "      <td>0.0</td>\n",
       "      <td>0</td>\n",
       "      <td>0</td>\n",
       "    </tr>\n",
       "  </tbody>\n",
       "</table>\n",
       "<p>5 rows × 25 columns</p>\n",
       "</div>"
      ],
      "text/plain": [
       "   Unnamed: 0           PLAYER  Mat.x  Inns.x  NO  Runs.x  HS  Avg.x   BF  \\\n",
       "0           1      Aaron Finch     10       9   1     134  46  16.75  100   \n",
       "1           2   AB de Villiers     12      11   2     480  90  53.33  275   \n",
       "2           3  Abhishek Sharma      3       3   2      63  46  63.00   33   \n",
       "3           4   Ajinkya Rahane     15      14   1     370  65  28.46  313   \n",
       "4           5       Alex Hales      6       6   0     148  45  24.66  118   \n",
       "\n",
       "     SR.x ...   Inns.y   Ov  Runs.y  Wkts  BBI  Avg.y  Econ  SR.y  X4w  X5w  \n",
       "0  134.00 ...        0  0.0       0     0    0    0.0   0.0   0.0    0    0  \n",
       "1  174.54 ...        0  0.0       0     0    0    0.0   0.0   0.0    0    0  \n",
       "2  190.90 ...        0  0.0       0     0    0    0.0   0.0   0.0    0    0  \n",
       "3  118.21 ...        0  0.0       0     0    0    0.0   0.0   0.0    0    0  \n",
       "4  125.42 ...        0  0.0       0     0    0    0.0   0.0   0.0    0    0  \n",
       "\n",
       "[5 rows x 25 columns]"
      ]
     },
     "execution_count": 7,
     "metadata": {},
     "output_type": "execute_result"
    }
   ],
   "source": [
    "IPL = pd.read_csv(\"ipl screened.csv\")\n",
    "IPL.head()"
   ]
  },
  {
   "cell_type": "code",
   "execution_count": 11,
   "metadata": {},
   "outputs": [],
   "source": [
    "IPL = IPL[['PLAYER', 'Mat.x', 'Inns.x', 'NO', 'Runs.x', 'HS',\n",
    "       'Avg.x', 'BF', 'SR.x', 'X100', 'X50', 'X4s', 'X6s', 'Mat.y', 'Inns.y',\n",
    "       'Ov', 'Runs.y', 'Wkts', 'BBI', 'Avg.y', 'Econ', 'SR.y', 'X4w', 'X5w']]"
   ]
  },
  {
   "cell_type": "code",
   "execution_count": 27,
   "metadata": {
    "scrolled": true
   },
   "outputs": [
    {
     "data": {
      "text/plain": [
       "Index(['PLAYER', 'Mat.x', 'Inns.x', 'NO', 'Runs.x', 'HS', 'Avg.x', 'BF',\n",
       "       'SR.x', 'X100', 'X50', 'X4s', 'X6s', 'Mat.y', 'Inns.y', 'Ov', 'Runs.y',\n",
       "       'Wkts', 'BBI', 'Avg.y', 'Econ', 'SR.y', 'X4w', 'X5w'],\n",
       "      dtype='object')"
      ]
     },
     "execution_count": 27,
     "metadata": {},
     "output_type": "execute_result"
    }
   ],
   "source": [
    "IPL.columns"
   ]
  },
  {
   "cell_type": "code",
   "execution_count": 28,
   "metadata": {},
   "outputs": [],
   "source": [
    "## Hierarchical Clustering with Scaling\n",
    "from sklearn.preprocessing import scale as scale"
   ]
  },
  {
   "cell_type": "code",
   "execution_count": 29,
   "metadata": {},
   "outputs": [
    {
     "data": {
      "text/plain": [
       "array([[ 0.4480029 ,  0.54491687, -0.1550601 , ..., -0.98047992,\n",
       "        -0.18172434, -0.08391814],\n",
       "       [ 0.77823185,  0.90989631,  0.46087308, ..., -0.98047992,\n",
       "        -0.18172434, -0.08391814],\n",
       "       [-0.7077984 , -0.55002147,  0.46087308, ..., -0.98047992,\n",
       "        -0.18172434, -0.08391814],\n",
       "       ...,\n",
       "       [-1.20314182, -1.09749065, -0.77099328, ...,  0.21042432,\n",
       "        -0.18172434, -0.08391814],\n",
       "       [-1.20314182, -1.09749065, -0.77099328, ..., -0.12183423,\n",
       "        -0.18172434, -0.08391814],\n",
       "       [-1.20314182, -1.09749065, -0.77099328, ...,  0.88614116,\n",
       "        -0.18172434, -0.08391814]])"
      ]
     },
     "execution_count": 29,
     "metadata": {},
     "output_type": "execute_result"
    }
   ],
   "source": [
    "scaled_IPL = scale(IPL.iloc[:,1:24])\n",
    "scaled_IPL"
   ]
  },
  {
   "cell_type": "code",
   "execution_count": 30,
   "metadata": {},
   "outputs": [],
   "source": [
    "## Distance Computation\n",
    "from scipy.spatial.distance import pdist, squareform"
   ]
  },
  {
   "cell_type": "code",
   "execution_count": 32,
   "metadata": {
    "scrolled": true
   },
   "outputs": [
    {
     "data": {
      "text/plain": [
       "array([6.41435879, 3.42586635, 3.45117116, ..., 5.95122126, 1.63454471,\n",
       "       5.26462439])"
      ]
     },
     "execution_count": 32,
     "metadata": {},
     "output_type": "execute_result"
    }
   ],
   "source": [
    "d_euc = pdist(scaled_IPL, metric  = \"euclidean\")\n",
    "d_euc"
   ]
  },
  {
   "cell_type": "code",
   "execution_count": 33,
   "metadata": {},
   "outputs": [],
   "source": [
    "## Building the Clusters\n",
    "from scipy.cluster.hierarchy import linkage, dendrogram, cut_tree\n",
    "clus1 = linkage(d_euc, method = \"ward\")"
   ]
  },
  {
   "cell_type": "code",
   "execution_count": 37,
   "metadata": {},
   "outputs": [
    {
     "data": {
      "image/png": "[encoded data removed]",
      "text/plain": [
       "<matplotlib.figure.Figure at 0x20f26daf7b8>"
      ]
     },
     "metadata": {},
     "output_type": "display_data"
    }
   ],
   "source": [
    "import matplotlib.pyplot as plt\n",
    "dendrogram(clus1, \n",
    "           labels=IPL.iloc[:,[0]].values.tolist())\n",
    "plt.xlabel('hclust')\n",
    "plt.ylabel('Distance')\n",
    "plt.suptitle('Cluster Dendrogram', \n",
    "             fontweight='bold', fontsize=14)\n",
    "plt.show()"
   ]
  },
  {
   "cell_type": "code",
   "execution_count": 38,
   "metadata": {},
   "outputs": [
    {
     "name": "stdout",
     "output_type": "stream",
     "text": [
      "[[ 0.     6.414  3.426 ...  7.77   5.661  7.278]\n",
      " [ 6.414  0.     6.82  ... 11.258  9.92  10.924]\n",
      " [ 3.426  6.82   0.    ...  8.482  6.605  8.035]\n",
      " ...\n",
      " [ 7.77  11.258  8.482 ...  0.     5.951  1.635]\n",
      " [ 5.661  9.92   6.605 ...  5.951  0.     5.265]\n",
      " [ 7.278 10.924  8.035 ...  1.635  5.265  0.   ]]\n"
     ]
    }
   ],
   "source": [
    "import numpy as np\n",
    "print(np.round(squareform(d_euc).tolist(),3))"
   ]
  },
  {
   "cell_type": "code",
   "execution_count": 39,
   "metadata": {
    "scrolled": true
   },
   "outputs": [
    {
     "data": {
      "text/html": [
       "<div>\n",
       "<style scoped>\n",
       "    .dataframe tbody tr th:only-of-type {\n",
       "        vertical-align: middle;\n",
       "    }\n",
       "\n",
       "    .dataframe tbody tr th {\n",
       "        vertical-align: top;\n",
       "    }\n",
       "\n",
       "    .dataframe thead th {\n",
       "        text-align: right;\n",
       "    }\n",
       "</style>\n",
       "<table border=\"1\" class=\"dataframe\">\n",
       "  <thead>\n",
       "    <tr style=\"text-align: right;\">\n",
       "      <th></th>\n",
       "      <th>Clusters</th>\n",
       "      <th>Mat.x</th>\n",
       "      <th>Inns.x</th>\n",
       "      <th>NO</th>\n",
       "      <th>Runs.x</th>\n",
       "      <th>HS</th>\n",
       "      <th>Avg.x</th>\n",
       "      <th>BF</th>\n",
       "      <th>SR.x</th>\n",
       "      <th>X100</th>\n",
       "      <th>...</th>\n",
       "      <th>Inns.y</th>\n",
       "      <th>Ov</th>\n",
       "      <th>Runs.y</th>\n",
       "      <th>Wkts</th>\n",
       "      <th>BBI</th>\n",
       "      <th>Avg.y</th>\n",
       "      <th>Econ</th>\n",
       "      <th>SR.y</th>\n",
       "      <th>X4w</th>\n",
       "      <th>X5w</th>\n",
       "    </tr>\n",
       "  </thead>\n",
       "  <tbody>\n",
       "    <tr>\n",
       "      <th>0</th>\n",
       "      <td>0</td>\n",
       "      <td>10.961538</td>\n",
       "      <td>10.480769</td>\n",
       "      <td>1.692308</td>\n",
       "      <td>287.365385</td>\n",
       "      <td>63.461538</td>\n",
       "      <td>30.971923</td>\n",
       "      <td>204.942308</td>\n",
       "      <td>136.249808</td>\n",
       "      <td>0.096154</td>\n",
       "      <td>...</td>\n",
       "      <td>0.403846</td>\n",
       "      <td>0.790385</td>\n",
       "      <td>7.057692</td>\n",
       "      <td>0.230769</td>\n",
       "      <td>0.0</td>\n",
       "      <td>2.400577</td>\n",
       "      <td>0.667115</td>\n",
       "      <td>1.524038</td>\n",
       "      <td>0.000000</td>\n",
       "      <td>0.000000</td>\n",
       "    </tr>\n",
       "    <tr>\n",
       "      <th>1</th>\n",
       "      <td>1</td>\n",
       "      <td>8.742857</td>\n",
       "      <td>5.600000</td>\n",
       "      <td>1.514286</td>\n",
       "      <td>73.685714</td>\n",
       "      <td>21.542857</td>\n",
       "      <td>9.616857</td>\n",
       "      <td>51.200000</td>\n",
       "      <td>87.801143</td>\n",
       "      <td>0.000000</td>\n",
       "      <td>...</td>\n",
       "      <td>12.942857</td>\n",
       "      <td>44.371429</td>\n",
       "      <td>358.285714</td>\n",
       "      <td>13.685714</td>\n",
       "      <td>0.0</td>\n",
       "      <td>26.988571</td>\n",
       "      <td>8.056000</td>\n",
       "      <td>20.076571</td>\n",
       "      <td>0.228571</td>\n",
       "      <td>0.028571</td>\n",
       "    </tr>\n",
       "    <tr>\n",
       "      <th>2</th>\n",
       "      <td>2</td>\n",
       "      <td>2.964286</td>\n",
       "      <td>2.125000</td>\n",
       "      <td>0.678571</td>\n",
       "      <td>25.071429</td>\n",
       "      <td>12.267857</td>\n",
       "      <td>8.752143</td>\n",
       "      <td>20.357143</td>\n",
       "      <td>56.395893</td>\n",
       "      <td>0.000000</td>\n",
       "      <td>...</td>\n",
       "      <td>4.321429</td>\n",
       "      <td>12.512500</td>\n",
       "      <td>119.946429</td>\n",
       "      <td>3.053571</td>\n",
       "      <td>0.0</td>\n",
       "      <td>31.415714</td>\n",
       "      <td>10.071250</td>\n",
       "      <td>19.569821</td>\n",
       "      <td>0.000000</td>\n",
       "      <td>0.000000</td>\n",
       "    </tr>\n",
       "  </tbody>\n",
       "</table>\n",
       "<p>3 rows × 24 columns</p>\n",
       "</div>"
      ],
      "text/plain": [
       "   Clusters      Mat.x     Inns.x        NO      Runs.x         HS      Avg.x  \\\n",
       "0         0  10.961538  10.480769  1.692308  287.365385  63.461538  30.971923   \n",
       "1         1   8.742857   5.600000  1.514286   73.685714  21.542857   9.616857   \n",
       "2         2   2.964286   2.125000  0.678571   25.071429  12.267857   8.752143   \n",
       "\n",
       "           BF        SR.x      X100    ...        Inns.y         Ov  \\\n",
       "0  204.942308  136.249808  0.096154    ...      0.403846   0.790385   \n",
       "1   51.200000   87.801143  0.000000    ...     12.942857  44.371429   \n",
       "2   20.357143   56.395893  0.000000    ...      4.321429  12.512500   \n",
       "\n",
       "       Runs.y       Wkts  BBI      Avg.y       Econ       SR.y       X4w  \\\n",
       "0    7.057692   0.230769  0.0   2.400577   0.667115   1.524038  0.000000   \n",
       "1  358.285714  13.685714  0.0  26.988571   8.056000  20.076571  0.228571   \n",
       "2  119.946429   3.053571  0.0  31.415714  10.071250  19.569821  0.000000   \n",
       "\n",
       "        X5w  \n",
       "0  0.000000  \n",
       "1  0.028571  \n",
       "2  0.000000  \n",
       "\n",
       "[3 rows x 24 columns]"
      ]
     },
     "execution_count": 39,
     "metadata": {},
     "output_type": "execute_result"
    }
   ],
   "source": [
    "## Profiling Step\n",
    "IPL['Clusters'] = cut_tree(clus1, 3)\n",
    "clus_profile = IPL.iloc[:,1:25].groupby(['Clusters'], as_index=False).mean()\n",
    "clus_profile "
   ]
  },
  {
   "cell_type": "markdown",
   "metadata": {},
   "source": [
    "## K means"
   ]
  },
  {
   "cell_type": "code",
   "execution_count": 40,
   "metadata": {
    "scrolled": true
   },
   "outputs": [
    {
     "data": {
      "text/html": [
       "<div>\n",
       "<style scoped>\n",
       "    .dataframe tbody tr th:only-of-type {\n",
       "        vertical-align: middle;\n",
       "    }\n",
       "\n",
       "    .dataframe tbody tr th {\n",
       "        vertical-align: top;\n",
       "    }\n",
       "\n",
       "    .dataframe thead th {\n",
       "        text-align: right;\n",
       "    }\n",
       "</style>\n",
       "<table border=\"1\" class=\"dataframe\">\n",
       "  <thead>\n",
       "    <tr style=\"text-align: right;\">\n",
       "      <th></th>\n",
       "      <th>Unnamed: 0</th>\n",
       "      <th>PLAYER</th>\n",
       "      <th>Mat.x</th>\n",
       "      <th>Inns.x</th>\n",
       "      <th>NO</th>\n",
       "      <th>Runs.x</th>\n",
       "      <th>HS</th>\n",
       "      <th>Avg.x</th>\n",
       "      <th>BF</th>\n",
       "      <th>SR.x</th>\n",
       "      <th>...</th>\n",
       "      <th>Inns.y</th>\n",
       "      <th>Ov</th>\n",
       "      <th>Runs.y</th>\n",
       "      <th>Wkts</th>\n",
       "      <th>BBI</th>\n",
       "      <th>Avg.y</th>\n",
       "      <th>Econ</th>\n",
       "      <th>SR.y</th>\n",
       "      <th>X4w</th>\n",
       "      <th>X5w</th>\n",
       "    </tr>\n",
       "  </thead>\n",
       "  <tbody>\n",
       "    <tr>\n",
       "      <th>0</th>\n",
       "      <td>1</td>\n",
       "      <td>Aaron Finch</td>\n",
       "      <td>10</td>\n",
       "      <td>9</td>\n",
       "      <td>1</td>\n",
       "      <td>134</td>\n",
       "      <td>46</td>\n",
       "      <td>16.75</td>\n",
       "      <td>100</td>\n",
       "      <td>134.00</td>\n",
       "      <td>...</td>\n",
       "      <td>0</td>\n",
       "      <td>0.0</td>\n",
       "      <td>0</td>\n",
       "      <td>0</td>\n",
       "      <td>0</td>\n",
       "      <td>0.0</td>\n",
       "      <td>0.0</td>\n",
       "      <td>0.0</td>\n",
       "      <td>0</td>\n",
       "      <td>0</td>\n",
       "    </tr>\n",
       "    <tr>\n",
       "      <th>1</th>\n",
       "      <td>2</td>\n",
       "      <td>AB de Villiers</td>\n",
       "      <td>12</td>\n",
       "      <td>11</td>\n",
       "      <td>2</td>\n",
       "      <td>480</td>\n",
       "      <td>90</td>\n",
       "      <td>53.33</td>\n",
       "      <td>275</td>\n",
       "      <td>174.54</td>\n",
       "      <td>...</td>\n",
       "      <td>0</td>\n",
       "      <td>0.0</td>\n",
       "      <td>0</td>\n",
       "      <td>0</td>\n",
       "      <td>0</td>\n",
       "      <td>0.0</td>\n",
       "      <td>0.0</td>\n",
       "      <td>0.0</td>\n",
       "      <td>0</td>\n",
       "      <td>0</td>\n",
       "    </tr>\n",
       "    <tr>\n",
       "      <th>2</th>\n",
       "      <td>3</td>\n",
       "      <td>Abhishek Sharma</td>\n",
       "      <td>3</td>\n",
       "      <td>3</td>\n",
       "      <td>2</td>\n",
       "      <td>63</td>\n",
       "      <td>46</td>\n",
       "      <td>63.00</td>\n",
       "      <td>33</td>\n",
       "      <td>190.90</td>\n",
       "      <td>...</td>\n",
       "      <td>0</td>\n",
       "      <td>0.0</td>\n",
       "      <td>0</td>\n",
       "      <td>0</td>\n",
       "      <td>0</td>\n",
       "      <td>0.0</td>\n",
       "      <td>0.0</td>\n",
       "      <td>0.0</td>\n",
       "      <td>0</td>\n",
       "      <td>0</td>\n",
       "    </tr>\n",
       "    <tr>\n",
       "      <th>3</th>\n",
       "      <td>4</td>\n",
       "      <td>Ajinkya Rahane</td>\n",
       "      <td>15</td>\n",
       "      <td>14</td>\n",
       "      <td>1</td>\n",
       "      <td>370</td>\n",
       "      <td>65</td>\n",
       "      <td>28.46</td>\n",
       "      <td>313</td>\n",
       "      <td>118.21</td>\n",
       "      <td>...</td>\n",
       "      <td>0</td>\n",
       "      <td>0.0</td>\n",
       "      <td>0</td>\n",
       "      <td>0</td>\n",
       "      <td>0</td>\n",
       "      <td>0.0</td>\n",
       "      <td>0.0</td>\n",
       "      <td>0.0</td>\n",
       "      <td>0</td>\n",
       "      <td>0</td>\n",
       "    </tr>\n",
       "    <tr>\n",
       "      <th>4</th>\n",
       "      <td>5</td>\n",
       "      <td>Alex Hales</td>\n",
       "      <td>6</td>\n",
       "      <td>6</td>\n",
       "      <td>0</td>\n",
       "      <td>148</td>\n",
       "      <td>45</td>\n",
       "      <td>24.66</td>\n",
       "      <td>118</td>\n",
       "      <td>125.42</td>\n",
       "      <td>...</td>\n",
       "      <td>0</td>\n",
       "      <td>0.0</td>\n",
       "      <td>0</td>\n",
       "      <td>0</td>\n",
       "      <td>0</td>\n",
       "      <td>0.0</td>\n",
       "      <td>0.0</td>\n",
       "      <td>0.0</td>\n",
       "      <td>0</td>\n",
       "      <td>0</td>\n",
       "    </tr>\n",
       "  </tbody>\n",
       "</table>\n",
       "<p>5 rows × 25 columns</p>\n",
       "</div>"
      ],
      "text/plain": [
       "   Unnamed: 0           PLAYER  Mat.x  Inns.x  NO  Runs.x  HS  Avg.x   BF  \\\n",
       "0           1      Aaron Finch     10       9   1     134  46  16.75  100   \n",
       "1           2   AB de Villiers     12      11   2     480  90  53.33  275   \n",
       "2           3  Abhishek Sharma      3       3   2      63  46  63.00   33   \n",
       "3           4   Ajinkya Rahane     15      14   1     370  65  28.46  313   \n",
       "4           5       Alex Hales      6       6   0     148  45  24.66  118   \n",
       "\n",
       "     SR.x ...   Inns.y   Ov  Runs.y  Wkts  BBI  Avg.y  Econ  SR.y  X4w  X5w  \n",
       "0  134.00 ...        0  0.0       0     0    0    0.0   0.0   0.0    0    0  \n",
       "1  174.54 ...        0  0.0       0     0    0    0.0   0.0   0.0    0    0  \n",
       "2  190.90 ...        0  0.0       0     0    0    0.0   0.0   0.0    0    0  \n",
       "3  118.21 ...        0  0.0       0     0    0    0.0   0.0   0.0    0    0  \n",
       "4  125.42 ...        0  0.0       0     0    0    0.0   0.0   0.0    0    0  \n",
       "\n",
       "[5 rows x 25 columns]"
      ]
     },
     "execution_count": 40,
     "metadata": {},
     "output_type": "execute_result"
    }
   ],
   "source": [
    "IPL = pd.read_csv(\"ipl screened.csv\")\n",
    "IPL.head()"
   ]
  },
  {
   "cell_type": "code",
   "execution_count": 41,
   "metadata": {},
   "outputs": [],
   "source": [
    "IPL = IPL[['PLAYER', 'Mat.x', 'Inns.x', 'NO', 'Runs.x', 'HS',\n",
    "       'Avg.x', 'BF', 'SR.x', 'X100', 'X50', 'X4s', 'X6s', 'Mat.y', 'Inns.y',\n",
    "       'Ov', 'Runs.y', 'Wkts', 'BBI', 'Avg.y', 'Econ', 'SR.y', 'X4w', 'X5w']]"
   ]
  },
  {
   "cell_type": "code",
   "execution_count": 44,
   "metadata": {},
   "outputs": [],
   "source": [
    "## Scaling\n",
    "from sklearn.preprocessing import scale as scale\n",
    "scaled_IPL = scale(IPL.iloc[:,1:24])"
   ]
  },
  {
   "cell_type": "code",
   "execution_count": 46,
   "metadata": {},
   "outputs": [
    {
     "data": {
      "text/plain": [
       "array([[ 0.4480029 ,  0.54491687, -0.1550601 , ..., -0.98047992,\n",
       "        -0.18172434, -0.08391814],\n",
       "       [ 0.77823185,  0.90989631,  0.46087308, ..., -0.98047992,\n",
       "        -0.18172434, -0.08391814],\n",
       "       [-0.7077984 , -0.55002147,  0.46087308, ..., -0.98047992,\n",
       "        -0.18172434, -0.08391814],\n",
       "       ...,\n",
       "       [-1.20314182, -1.09749065, -0.77099328, ...,  0.21042432,\n",
       "        -0.18172434, -0.08391814],\n",
       "       [-1.20314182, -1.09749065, -0.77099328, ..., -0.12183423,\n",
       "        -0.18172434, -0.08391814],\n",
       "       [-1.20314182, -1.09749065, -0.77099328, ...,  0.88614116,\n",
       "        -0.18172434, -0.08391814]])"
      ]
     },
     "execution_count": 46,
     "metadata": {},
     "output_type": "execute_result"
    }
   ],
   "source": []
  },
  {
   "cell_type": "code",
   "execution_count": 47,
   "metadata": {},
   "outputs": [],
   "source": [
    "## Identifying the optimal number of clusters \n",
    "# elbow method"
   ]
  },
  {
   "cell_type": "code",
   "execution_count": 48,
   "metadata": {},
   "outputs": [],
   "source": [
    "cluster_range = range( 1, 6 )  ## number of iterations or number of clusters, here making 5 iterations , can take any number of iterations\n",
    "cluster_wss = []"
   ]
  },
  {
   "cell_type": "code",
   "execution_count": 51,
   "metadata": {},
   "outputs": [],
   "source": [
    "from sklearn.cluster import KMeans\n",
    "for num_clusters in cluster_range:\n",
    "  clusters = KMeans( num_clusters )\n",
    "  clusters.fit(scaled_IPL)\n",
    "  cluster_wss.append( clusters.inertia_ )"
   ]
  },
  {
   "cell_type": "code",
   "execution_count": 52,
   "metadata": {},
   "outputs": [
    {
     "data": {
      "text/html": [
       "<div>\n",
       "<style scoped>\n",
       "    .dataframe tbody tr th:only-of-type {\n",
       "        vertical-align: middle;\n",
       "    }\n",
       "\n",
       "    .dataframe tbody tr th {\n",
       "        vertical-align: top;\n",
       "    }\n",
       "\n",
       "    .dataframe thead th {\n",
       "        text-align: right;\n",
       "    }\n",
       "</style>\n",
       "<table border=\"1\" class=\"dataframe\">\n",
       "  <thead>\n",
       "    <tr style=\"text-align: right;\">\n",
       "      <th></th>\n",
       "      <th>num_clusters</th>\n",
       "      <th>cluster_wss</th>\n",
       "    </tr>\n",
       "  </thead>\n",
       "  <tbody>\n",
       "    <tr>\n",
       "      <th>0</th>\n",
       "      <td>1</td>\n",
       "      <td>3146.000000</td>\n",
       "    </tr>\n",
       "    <tr>\n",
       "      <th>1</th>\n",
       "      <td>2</td>\n",
       "      <td>2086.355658</td>\n",
       "    </tr>\n",
       "    <tr>\n",
       "      <th>2</th>\n",
       "      <td>3</td>\n",
       "      <td>1649.674868</td>\n",
       "    </tr>\n",
       "    <tr>\n",
       "      <th>3</th>\n",
       "      <td>4</td>\n",
       "      <td>1366.326976</td>\n",
       "    </tr>\n",
       "    <tr>\n",
       "      <th>4</th>\n",
       "      <td>5</td>\n",
       "      <td>1199.170690</td>\n",
       "    </tr>\n",
       "  </tbody>\n",
       "</table>\n",
       "</div>"
      ],
      "text/plain": [
       "   num_clusters  cluster_wss\n",
       "0             1  3146.000000\n",
       "1             2  2086.355658\n",
       "2             3  1649.674868\n",
       "3             4  1366.326976\n",
       "4             5  1199.170690"
      ]
     },
     "execution_count": 52,
     "metadata": {},
     "output_type": "execute_result"
    }
   ],
   "source": [
    "from collections import OrderedDict\n",
    "clusters_df = pd.DataFrame( OrderedDict ( \n",
    "        {\"num_clusters\": cluster_range, \n",
    "        \"cluster_wss\": cluster_wss }\n",
    "        ) )\n",
    "clusters_df[0:5]"
   ]
  },
  {
   "cell_type": "code",
   "execution_count": 53,
   "metadata": {},
   "outputs": [
    {
     "data": {
      "text/plain": [
       "[<matplotlib.lines.Line2D at 0x20f26abef98>]"
      ]
     },
     "execution_count": 53,
     "metadata": {},
     "output_type": "execute_result"
    },
    {
     "data": {
      "image/png": "[encoded data removed]",
      "text/plain": [
       "<matplotlib.figure.Figure at 0x20f26968f28>"
      ]
     },
     "metadata": {},
     "output_type": "display_data"
    }
   ],
   "source": [
    "import matplotlib.pyplot as plt\n",
    "import numpy as np\n",
    "plt.figure(figsize=(12,6))\n",
    "plt.xlabel('# Clusters')\n",
    "plt.ylabel('WSS')\n",
    "plt.xticks(np.arange(min(clusters_df.num_clusters), \n",
    "                     max(clusters_df.num_clusters)+1, \n",
    "                     1.0))\n",
    "plt.plot( clusters_df.num_clusters, \n",
    "         clusters_df.cluster_wss, \n",
    "         marker = \"o\" )"
   ]
  },
  {
   "cell_type": "code",
   "execution_count": 54,
   "metadata": {},
   "outputs": [],
   "source": [
    "## profiling the clusters\n",
    "clusterer = KMeans(n_clusters=4, random_state=10)\n",
    "cluster_labels = clusterer.fit_predict(scaled_IPL)\n",
    "cluster_labels\n",
    "IPL['Clusters'] = cluster_labels"
   ]
  },
  {
   "cell_type": "code",
   "execution_count": 57,
   "metadata": {},
   "outputs": [
    {
     "data": {
      "text/html": [
       "<div>\n",
       "<style scoped>\n",
       "    .dataframe tbody tr th:only-of-type {\n",
       "        vertical-align: middle;\n",
       "    }\n",
       "\n",
       "    .dataframe tbody tr th {\n",
       "        vertical-align: top;\n",
       "    }\n",
       "\n",
       "    .dataframe thead th {\n",
       "        text-align: right;\n",
       "    }\n",
       "</style>\n",
       "<table border=\"1\" class=\"dataframe\">\n",
       "  <thead>\n",
       "    <tr style=\"text-align: right;\">\n",
       "      <th></th>\n",
       "      <th>Clusters</th>\n",
       "      <th>Mat.x</th>\n",
       "      <th>Inns.x</th>\n",
       "      <th>NO</th>\n",
       "      <th>Runs.x</th>\n",
       "      <th>HS</th>\n",
       "      <th>Avg.x</th>\n",
       "      <th>BF</th>\n",
       "      <th>SR.x</th>\n",
       "      <th>X100</th>\n",
       "      <th>...</th>\n",
       "      <th>Inns.y</th>\n",
       "      <th>Ov</th>\n",
       "      <th>Runs.y</th>\n",
       "      <th>Wkts</th>\n",
       "      <th>BBI</th>\n",
       "      <th>Avg.y</th>\n",
       "      <th>Econ</th>\n",
       "      <th>SR.y</th>\n",
       "      <th>X4w</th>\n",
       "      <th>X5w</th>\n",
       "    </tr>\n",
       "  </thead>\n",
       "  <tbody>\n",
       "    <tr>\n",
       "      <th>0</th>\n",
       "      <td>0</td>\n",
       "      <td>11.800000</td>\n",
       "      <td>7.600000</td>\n",
       "      <td>2.400000</td>\n",
       "      <td>100.800000</td>\n",
       "      <td>32.257143</td>\n",
       "      <td>18.919429</td>\n",
       "      <td>70.714286</td>\n",
       "      <td>138.734000</td>\n",
       "      <td>0.000000</td>\n",
       "      <td>...</td>\n",
       "      <td>11.114286</td>\n",
       "      <td>35.451429</td>\n",
       "      <td>299.542857</td>\n",
       "      <td>9.714286</td>\n",
       "      <td>0.0</td>\n",
       "      <td>38.879714</td>\n",
       "      <td>8.711143</td>\n",
       "      <td>26.321429</td>\n",
       "      <td>0.142857</td>\n",
       "      <td>0.000000</td>\n",
       "    </tr>\n",
       "    <tr>\n",
       "      <th>1</th>\n",
       "      <td>1</td>\n",
       "      <td>14.500000</td>\n",
       "      <td>14.388889</td>\n",
       "      <td>2.500000</td>\n",
       "      <td>516.277778</td>\n",
       "      <td>88.833333</td>\n",
       "      <td>44.907222</td>\n",
       "      <td>352.944444</td>\n",
       "      <td>146.323889</td>\n",
       "      <td>0.277778</td>\n",
       "      <td>...</td>\n",
       "      <td>0.611111</td>\n",
       "      <td>1.555556</td>\n",
       "      <td>13.944444</td>\n",
       "      <td>0.333333</td>\n",
       "      <td>0.0</td>\n",
       "      <td>2.323889</td>\n",
       "      <td>0.497778</td>\n",
       "      <td>1.555556</td>\n",
       "      <td>0.000000</td>\n",
       "      <td>0.000000</td>\n",
       "    </tr>\n",
       "    <tr>\n",
       "      <th>2</th>\n",
       "      <td>2</td>\n",
       "      <td>0.395833</td>\n",
       "      <td>0.333333</td>\n",
       "      <td>0.083333</td>\n",
       "      <td>2.104167</td>\n",
       "      <td>1.479167</td>\n",
       "      <td>0.912917</td>\n",
       "      <td>2.375000</td>\n",
       "      <td>9.951250</td>\n",
       "      <td>0.000000</td>\n",
       "      <td>...</td>\n",
       "      <td>6.020833</td>\n",
       "      <td>20.368750</td>\n",
       "      <td>176.416667</td>\n",
       "      <td>6.291667</td>\n",
       "      <td>0.0</td>\n",
       "      <td>27.728333</td>\n",
       "      <td>9.640208</td>\n",
       "      <td>17.725208</td>\n",
       "      <td>0.062500</td>\n",
       "      <td>0.020833</td>\n",
       "    </tr>\n",
       "    <tr>\n",
       "      <th>3</th>\n",
       "      <td>3</td>\n",
       "      <td>8.309524</td>\n",
       "      <td>7.595238</td>\n",
       "      <td>1.095238</td>\n",
       "      <td>142.952381</td>\n",
       "      <td>46.238095</td>\n",
       "      <td>21.974286</td>\n",
       "      <td>110.642857</td>\n",
       "      <td>127.357619</td>\n",
       "      <td>0.000000</td>\n",
       "      <td>...</td>\n",
       "      <td>0.642857</td>\n",
       "      <td>1.150000</td>\n",
       "      <td>10.023810</td>\n",
       "      <td>0.333333</td>\n",
       "      <td>0.0</td>\n",
       "      <td>2.265000</td>\n",
       "      <td>2.477619</td>\n",
       "      <td>1.851905</td>\n",
       "      <td>0.000000</td>\n",
       "      <td>0.000000</td>\n",
       "    </tr>\n",
       "  </tbody>\n",
       "</table>\n",
       "<p>4 rows × 24 columns</p>\n",
       "</div>"
      ],
      "text/plain": [
       "   Clusters      Mat.x     Inns.x        NO      Runs.x         HS      Avg.x  \\\n",
       "0         0  11.800000   7.600000  2.400000  100.800000  32.257143  18.919429   \n",
       "1         1  14.500000  14.388889  2.500000  516.277778  88.833333  44.907222   \n",
       "2         2   0.395833   0.333333  0.083333    2.104167   1.479167   0.912917   \n",
       "3         3   8.309524   7.595238  1.095238  142.952381  46.238095  21.974286   \n",
       "\n",
       "           BF        SR.x      X100    ...        Inns.y         Ov  \\\n",
       "0   70.714286  138.734000  0.000000    ...     11.114286  35.451429   \n",
       "1  352.944444  146.323889  0.277778    ...      0.611111   1.555556   \n",
       "2    2.375000    9.951250  0.000000    ...      6.020833  20.368750   \n",
       "3  110.642857  127.357619  0.000000    ...      0.642857   1.150000   \n",
       "\n",
       "       Runs.y      Wkts  BBI      Avg.y      Econ       SR.y       X4w  \\\n",
       "0  299.542857  9.714286  0.0  38.879714  8.711143  26.321429  0.142857   \n",
       "1   13.944444  0.333333  0.0   2.323889  0.497778   1.555556  0.000000   \n",
       "2  176.416667  6.291667  0.0  27.728333  9.640208  17.725208  0.062500   \n",
       "3   10.023810  0.333333  0.0   2.265000  2.477619   1.851905  0.000000   \n",
       "\n",
       "        X5w  \n",
       "0  0.000000  \n",
       "1  0.000000  \n",
       "2  0.020833  \n",
       "3  0.000000  \n",
       "\n",
       "[4 rows x 24 columns]"
      ]
     },
     "execution_count": 57,
     "metadata": {},
     "output_type": "execute_result"
    }
   ],
   "source": [
    "clus_profile = IPL.iloc[:,1:25].groupby(['Clusters'], \n",
    "                       as_index=False).mean()\n",
    "clus_profile"
   ]
  },
  {
   "cell_type": "code",
   "execution_count": 58,
   "metadata": {},
   "outputs": [],
   "source": [
    "from sklearn.decomposition import PCA\n",
    "pca_2 = PCA(2)\n",
    "plot_columns = pca_2.fit_transform(scaled_IPL)"
   ]
  },
  {
   "cell_type": "code",
   "execution_count": 62,
   "metadata": {},
   "outputs": [],
   "source": [
    "## Getting a Visual Plot \n",
    "## Defining Colours and Labels for the Plot\n",
    "def color_fun (row):\n",
    "   if (row['Clusters'] == 0):\n",
    "      return \"red\"\n",
    "   if (row['Clusters'] == 1):\n",
    "      return \"brown\"\n",
    "   if (row['Clusters'] == 2):\n",
    "      return \"blue\"\n",
    "   if (row['Clusters'] == 3):\n",
    "      return \"yellow\"\n",
    "   return 0"
   ]
  },
  {
   "cell_type": "code",
   "execution_count": 63,
   "metadata": {},
   "outputs": [],
   "source": [
    "IPL['color'] = IPL.apply (lambda row: color_fun(row), axis=1)\n",
    "\n",
    "plot_labels = IPL.iloc[:,[1]].values.ravel()"
   ]
  },
  {
   "cell_type": "code",
   "execution_count": 64,
   "metadata": {},
   "outputs": [
    {
     "data": {
      "image/png": "[encoded data removed]",
      "text/plain": [
       "<matplotlib.figure.Figure at 0x20f273b92b0>"
      ]
     },
     "metadata": {},
     "output_type": "display_data"
    }
   ],
   "source": [
    "## Show the Cluster Plot\n",
    "plt.scatter(x=plot_columns[:,0], \n",
    "            y=plot_columns[:,1],\n",
    "            c=IPL['color'].values.tolist(),\n",
    "            s=50, edgecolors='none')\n",
    "for label, x, y in zip(\n",
    "        plot_labels, plot_columns[:,0], \n",
    "        plot_columns[:,1]) :\n",
    "    plt.annotate(\n",
    "    label,\n",
    "    xy=(x, y), xytext=(10, 2),\n",
    "    textcoords='offset points', ha='right', va='bottom',\n",
    "    )\n",
    "    plt.xlabel('PC1')\n",
    "    plt.ylabel('PC2')\n",
    "\n",
    "plt.show()"
   ]
  },
  {
   "cell_type": "code",
   "execution_count": null,
   "metadata": {},
   "outputs": [],
   "source": []
  }
 ],
 "metadata": {
  "kernelspec": {
   "display_name": "Python 3",
   "language": "python",
   "name": "python3"
  },
  "language_info": {
   "codemirror_mode": {
    "name": "ipython",
    "version": 3
   },
   "file_extension": ".py",
   "mimetype": "text/x-python",
   "name": "python",
   "nbconvert_exporter": "python",
   "pygments_lexer": "ipython3",
   "version": "3.6.4"
  }
 },
 "nbformat": 4,
 "nbformat_minor": 2
}
